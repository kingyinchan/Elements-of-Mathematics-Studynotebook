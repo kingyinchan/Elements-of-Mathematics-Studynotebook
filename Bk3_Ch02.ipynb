{
 "cells": [
  {
   "cell_type": "markdown",
   "id": "d535d4cb-af4d-4c72-b8f9-08685a11a369",
   "metadata": {},
   "source": [
    "# 第二章  乘除  | 《数学要素》\n",
    "## 第一节 算数乘除"
   ]
  },
  {
   "cell_type": "code",
   "execution_count": 1,
   "id": "5b55c3f2-1a61-45ba-b027-512418281a56",
   "metadata": {
    "tags": []
   },
   "outputs": [
    {
     "name": "stdout",
     "output_type": "stream",
     "text": [
      "The product of 2 and 3 is 6\n"
     ]
    }
   ],
   "source": [
    "# 乘法计算\n",
    "num1 = 2\n",
    "num2 = 3\n",
    "prod = num1*num2\n",
    "print('The product of {0} and {1} is {2}'.format(num1, num2, prod))"
   ]
  },
  {
   "cell_type": "code",
   "execution_count": 22,
   "id": "1e8cf7c3-443a-411c-9b36-0c70e24f4cdc",
   "metadata": {
    "tags": []
   },
   "outputs": [
    {
     "name": "stdin",
     "output_type": "stream",
     "text": [
      "Enter the integer:  5\n"
     ]
    },
    {
     "name": "stdout",
     "output_type": "stream",
     "text": [
      "The factorial of 5  is  120\n"
     ]
    }
   ],
   "source": [
    "# 阶乘 factorial\n",
    "num = int(input(\"Enter the integer: \"))\n",
    "factorial = 1\n",
    "\n",
    "if num < 0:\n",
    "    print(\"Factorial dose not exist for negative numbers\")\n",
    "elif num == 0:\n",
    "    print(\"The factorial of 0 is \",factorial)\n",
    "else:\n",
    "    for i in range(1, num + 1):\n",
    "        factorial = factorial*i\n",
    "    print(\"The factorial of\",num,\" is \",factorial)"
   ]
  },
  {
   "cell_type": "code",
   "execution_count": 26,
   "id": "b2041b5c-4289-4ea9-aa16-3aba60f57d66",
   "metadata": {
    "tags": []
   },
   "outputs": [
    {
     "name": "stdout",
     "output_type": "stream",
     "text": [
      "[ 1.  2.  3.  4.  5.  6.  7.  8.  9. 10.]\n",
      "[      1.       2.       6.      24.     120.     720.    5040.   40320.\n",
      "  362880. 3628800.]\n"
     ]
    }
   ],
   "source": [
    "# 累计乘积\n",
    "import numpy as np\n",
    "a_i = np.linspace(1, 10, 10)\n",
    "print(a_i)\n",
    "\n",
    "a_i_cumprod = np.cumprod(a_i)\n",
    "np.set_printoptions(suppress=True)\n",
    "print(a_i_cumprod)"
   ]
  },
  {
   "cell_type": "markdown",
   "id": "92bf343a-339d-4ba0-b5fa-7abd17373362",
   "metadata": {},
   "source": [
    "与乘法同理，除法(division)的运算符为/，求余数(reminder)的运算符为%"
   ]
  },
  {
   "cell_type": "code",
   "execution_count": null,
   "id": "344d9b77-12b1-459e-99a0-ce3d089335a4",
   "metadata": {},
   "outputs": [],
   "source": []
  },
  {
   "cell_type": "markdown",
   "id": "43a84b98-f62d-4b8f-bc99-78ae9d56b165",
   "metadata": {},
   "source": [
    "## 第二节 向量乘法"
   ]
  },
  {
   "cell_type": "code",
   "execution_count": 27,
   "id": "614ca39b-fb3b-4827-9bb0-a4bf3370a33c",
   "metadata": {
    "tags": []
   },
   "outputs": [
    {
     "name": "stdout",
     "output_type": "stream",
     "text": [
      "[[2]\n",
      " [4]\n",
      " [6]]\n",
      "[[2 4 6]]\n",
      "[[ 2  4  6]\n",
      " [ 8 10 12]]\n"
     ]
    }
   ],
   "source": [
    "# 标量乘法,数乘\n",
    "import numpy as np\n",
    "a_col = np.array([[1], [2], [3]])\n",
    "b_col = 2*a_col\n",
    "a_row = np.array([[1, 2, 3]])\n",
    "b_row = 2*a_row\n",
    "A = np.array([[1, 2, 3],\n",
    "              [4, 5, 6]])\n",
    "B = 2*A\n",
    "print(b_col)\n",
    "print(b_row)\n",
    "print(B)"
   ]
  },
  {
   "cell_type": "code",
   "execution_count": 32,
   "id": "42fe48a8-499c-4b16-8bff-f0196390c413",
   "metadata": {
    "tags": []
   },
   "outputs": [
    {
     "name": "stdout",
     "output_type": "stream",
     "text": [
      "[[16]]\n",
      "16\n"
     ]
    }
   ],
   "source": [
    "# 向量内积，两形状相同向量，对应位置元素一一相乘，再求和  \n",
    "import numpy as np\n",
    "\n",
    "a1_row = np.array([[1, 2, 3]])\n",
    "a2_row = np.array([[4, 3, 2]])\n",
    "a1_dot_a2 = np.inner(a1_row, a2_row)\n",
    "print(a1_dot_a2)\n",
    "\n",
    "print(np.sum(a1_row*a2_row))"
   ]
  },
  {
   "cell_type": "markdown",
   "id": "188e15a3-9452-4f8e-a1fa-40fd7c7140ed",
   "metadata": {},
   "source": [
    "1.向量内积满足交换律，不满足结合律  \n",
    "2.两列向量内积结果为张量积(tensor product)，主要用于主成分分析"
   ]
  },
  {
   "cell_type": "code",
   "execution_count": 34,
   "id": "de50f8c6-c9fb-43c9-b76e-b03e9afebe2f",
   "metadata": {
    "tags": []
   },
   "outputs": [
    {
     "name": "stdout",
     "output_type": "stream",
     "text": [
      "[[ 4 10 18]]\n",
      "[[ 1  4  9]\n",
      " [-4  0  6]]\n"
     ]
    }
   ],
   "source": [
    "# 逐项积，相当于批量乘积\n",
    "import numpy as np\n",
    "a = np.array([[1, 2, 3]])\n",
    "b = np.array([[4, 5, 6]])\n",
    "a_times_b = a*b\n",
    "\n",
    "A = np.array([[1, 2, 3],\n",
    "              [4, 5, 6]])\n",
    "B = np.array([[1, 2, 3],\n",
    "             [-1, 0, 1]])\n",
    "A_times_B = A*B\n",
    "\n",
    "print(a_times_b)\n",
    "print(A_times_B)"
   ]
  },
  {
   "cell_type": "code",
   "execution_count": null,
   "id": "02467d1e-301d-43c9-a135-81e40cc10dbf",
   "metadata": {},
   "outputs": [],
   "source": []
  },
  {
   "cell_type": "markdown",
   "id": "5998d9d4-2e1b-48b1-aa05-c9fc86f75927",
   "metadata": {},
   "source": [
    "## 第三节 矩阵乘法"
   ]
  },
  {
   "cell_type": "markdown",
   "id": "89e4bc86-be5c-4634-86cd-a448e6cb5f25",
   "metadata": {},
   "source": [
    "矩阵乘法规则：$A$左乘$B$，$A$的列数等于$B$的行数，且不满足交换律\n",
    "\n"
   ]
  },
  {
   "cell_type": "markdown",
   "id": "ffcd8036-b920-4a7f-a0e8-32513ed30b64",
   "metadata": {},
   "source": [
    "## 第四节 矩阵乘法第一视角"
   ]
  },
  {
   "cell_type": "markdown",
   "id": "d96286ac-7055-4185-8602-87d5450c235c",
   "metadata": {
    "tags": []
   },
   "source": [
    "$A_{m \\times p}$与$B_{p \\times n}$相乘表示乘积结果$C_{m\\times n}$的某一元素$a_{i,j}$是A的第i个行向量$a^{(i)}$与B的第j个列向量$b_j$的内积，其中要求$A$的列数与$B$的行数相等代表这俩个向量的元素个数相等，可以进行内积运算"
   ]
  },
  {
   "cell_type": "code",
   "execution_count": 98,
   "id": "c01b32b7-86af-4cfe-8f06-2d554fa382fd",
   "metadata": {
    "tags": []
   },
   "outputs": [
    {
     "data": {
      "text/plain": [
       "(array([0.5, 1.5, 2.5, 3.5, 4.5, 5.5]),\n",
       " [Text(0, 0.5, '1'),\n",
       "  Text(0, 1.5, '2'),\n",
       "  Text(0, 2.5, '3'),\n",
       "  Text(0, 3.5, '4'),\n",
       "  Text(0, 4.5, '5'),\n",
       "  Text(0, 5.5, '6')])"
      ]
     },
     "execution_count": 98,
     "metadata": {},
     "output_type": "execute_result"
    },
    {
     "data": {
      "image/png": "[encoded data removed]",
      "text/plain": [
       "<Figure size 1200x300 with 8 Axes>"
      ]
     },
     "metadata": {},
     "output_type": "display_data"
    }
   ],
   "source": [
    "# 绘制矩阵乘法热图\n",
    "import numpy as np\n",
    "from matplotlib import pyplot as plt\n",
    "import seaborn as sns\n",
    "\n",
    "np.random.seed(8) #随机数种子为7号\n",
    "\n",
    "m = 6\n",
    "p = 3\n",
    "n = 4\n",
    "\n",
    "A = np.random.uniform(-1, 1, m*p).reshape(m, p) #在-1到1的均匀分布上产生6*3个随机数，重新定义形状为6x3的矩阵\n",
    "B = np.random.uniform(-1, 1, p*n).reshape(p, n)\n",
    "\n",
    "C = A@B\n",
    "\n",
    "# heatmap上下限\n",
    "all_max = 1\n",
    "all_min = -1\n",
    "\n",
    "fig, axs = plt.subplots(1, 5, figsize =(12, 3)) #绘轴\n",
    "\n",
    "# 第一幅图\n",
    "plt.sca(axs[0])\n",
    "ax = sns.heatmap(A, cmap ='RdBu_r', vmax = all_max, vmin = all_min,\n",
    "                 cbar_kws ={\"orientation\": \"horizontal\"},\n",
    "                 yticklabels = np.arange(1, m+1), xticklabels = np.arange(1, p+1))\n",
    "ax.set_aspect(\"equal\")\n",
    "plt.title('$A$')\n",
    "plt.yticks(rotation = 0)\n",
    "\n",
    "# 第二幅图\n",
    "plt.sca(axs[1])\n",
    "plt.title('$@$')\n",
    "plt.axis('off')\n",
    "\n",
    "# 第三幅图\n",
    "plt.sca(axs[2])\n",
    "ax = sns.heatmap(B, cmap ='RdBu_r', vmax = all_max, vmin = all_min,\n",
    "                 cbar_kws ={\"orientation\": \"horizontal\"},\n",
    "                 yticklabels = np.arange(1, p+1), xticklabels = np.arange(1, n+1))\n",
    "ax.set_aspect(\"equal\")\n",
    "plt.title('$B$')\n",
    "plt.yticks(rotation = 0)\n",
    "\n",
    "# 第四幅图\n",
    "plt.sca(axs[3])\n",
    "plt.title('$=$')\n",
    "plt.axis('off')\n",
    "\n",
    "# 第五幅图\n",
    "plt.sca(axs[4])\n",
    "ax = sns.heatmap(C, cmap ='RdBu_r', vmax = all_max, vmin = all_min,\n",
    "                 cbar_kws ={\"orientation\": \"horizontal\"},\n",
    "                 yticklabels = np.arange(1, m+1), xticklabels = np.arange(1, n+1))\n",
    "ax.set_aspect(\"equal\")\n",
    "plt.title('$C$')\n",
    "plt.yticks(rotation = 0)\n",
    "\n"
   ]
  },
  {
   "cell_type": "code",
   "execution_count": null,
   "id": "985978d7-daba-40e1-96ed-3e73c5be0c7a",
   "metadata": {},
   "outputs": [],
   "source": []
  },
  {
   "cell_type": "markdown",
   "id": "ed781f3c-7255-4618-b8a9-8743012bc28e",
   "metadata": {},
   "source": [
    "## 第五节 矩阵乘法第二视角"
   ]
  },
  {
   "cell_type": "markdown",
   "id": "c4691b92-9c52-4212-a4f3-4212526b947e",
   "metadata": {
    "tags": []
   },
   "source": [
    "$A_{m \\times p}$与$B_{p \\times n}$相乘可以看作$A$的n个列向量(当作元素)与$B$的n个行向量(当作元素)做内积(得到n个$m \\times n$阶矩阵)再求和(向量张成，升维)"
   ]
  },
  {
   "cell_type": "code",
   "execution_count": 51,
   "id": "bf56ec7b-0bbf-484e-82c9-b3b3c9aef5ad",
   "metadata": {
    "tags": []
   },
   "outputs": [
    {
     "data": {
      "text/plain": [
       "(array([0.5, 1.5, 2.5, 3.5, 4.5, 5.5]),\n",
       " [Text(0, 0.5, '1'),\n",
       "  Text(0, 1.5, '2'),\n",
       "  Text(0, 2.5, '3'),\n",
       "  Text(0, 3.5, '4'),\n",
       "  Text(0, 4.5, '5'),\n",
       "  Text(0, 5.5, '6')])"
      ]
     },
     "execution_count": 51,
     "metadata": {},
     "output_type": "execute_result"
    },
    {
     "data": {
      "image/png": "[encoded data removed]",
      "text/plain": [
       "<Figure size 1200x300 with 11 Axes>"
      ]
     },
     "metadata": {},
     "output_type": "display_data"
    }
   ],
   "source": [
    "C1 = A[:,[0]]@B[[0],:]\n",
    "C2 = A[:,[1]]@B[[1],:]\n",
    "C3 = A[:,[2]]@B[[2],:]\n",
    "\n",
    "\n",
    "fig, axs = plt.subplots(1, 7, figsize=(12, 3))\n",
    "\n",
    "plt.sca(axs[0])\n",
    "ax = sns.heatmap(C1, cmap = 'RdBu_r', vmax = all_max, vmin = all_min,\n",
    "                 cbar_kws ={\"orientation\": \"horizontal\"},\n",
    "                 yticklabels = np.arange(1,m+1), xticklabels = np.arange(1,n+1))\n",
    "ax.set_aspect(\"equal\")\n",
    "plt.title('$C_1$')\n",
    "plt.yticks(rotation = 0) \n",
    "\n",
    "plt.sca(axs[1])\n",
    "plt.title('$+$')\n",
    "plt.axis('off')\n",
    "\n",
    "plt.sca(axs[2])\n",
    "ax = sns.heatmap(C2, cmap = 'RdBu_r', vmax = all_max, vmin = all_min,\n",
    "                 cbar_kws ={\"orientation\": \"horizontal\"},\n",
    "                 yticklabels = np.arange(1,m+1), xticklabels = np.arange(1,n+1))\n",
    "ax.set_aspect(\"equal\")\n",
    "plt.title('$C_2$')\n",
    "plt.yticks(rotation = 0) \n",
    "\n",
    "plt.sca(axs[3])\n",
    "plt.title('$+$')\n",
    "plt.axis('off')\n",
    "\n",
    "plt.sca(axs[4])\n",
    "ax = sns.heatmap(C3, cma p= 'RdBu_r', vmax = all_max,vmin = all_min,\n",
    "                 cbar_kws ={\"orientation\": \"horizontal\"},\n",
    "                 yticklabels = np.arange(1,m+1), xticklabels = np.arange(1,n+1))\n",
    "ax.set_aspect(\"equal\")\n",
    "plt.title('$C_3$')\n",
    "plt.yticks(rotation = 0) \n",
    "\n",
    "plt.sca(axs[5])\n",
    "plt.title('$=$')\n",
    "plt.axis('off')\n",
    "\n",
    "plt.sca(axs[6])\n",
    "ax = sns.heatmap(C, cmap = 'RdBu_r', vmax = all_max, vmin = all_min,\n",
    "                 cbar_kws ={\"orientation\": \"horizontal\"},\n",
    "                 yticklabels =n p.arange(1,m+1), xticklabel s= np.arange(1,n+1))\n",
    "ax.set_aspect(\"equal\")\n",
    "plt.title('$C$')\n",
    "plt.yticks(rotation = 0) "
   ]
  },
  {
   "cell_type": "code",
   "execution_count": null,
   "id": "046c0131-b936-4083-a35b-b98c47552bb9",
   "metadata": {},
   "outputs": [],
   "source": []
  },
  {
   "cell_type": "markdown",
   "id": "c63c46e9-9448-4fff-b7ae-16f52e967e3f",
   "metadata": {},
   "source": [
    "## 第六节 矩阵除法"
   ]
  },
  {
   "cell_type": "code",
   "execution_count": 97,
   "id": "b3184212-c548-4962-87df-da02dfa948d7",
   "metadata": {
    "tags": []
   },
   "outputs": [
    {
     "data": {
      "text/plain": [
       "(array([0.5, 1.5, 2.5, 3.5]),\n",
       " [Text(0, 0.5, '1'), Text(0, 1.5, '2'), Text(0, 2.5, '3'), Text(0, 3.5, '4')])"
      ]
     },
     "execution_count": 97,
     "metadata": {},
     "output_type": "execute_result"
    },
    {
     "data": {
      "image/png": "[encoded data removed]",
      "text/plain": [
       "<Figure size 1200x300 with 8 Axes>"
      ]
     },
     "metadata": {},
     "output_type": "display_data"
    }
   ],
   "source": [
    "# 绘制矩阵除法热图\n",
    "import numpy as np\n",
    "from numpy.linalg import inv\n",
    "from matplotlib import pyplot as plt\n",
    "import seaborn as sns\n",
    "\n",
    "np.random.seed(0)\n",
    "\n",
    "n = 4\n",
    "A = np.random.uniform(-1.5, 1.5, n*n).reshape(n, n)\n",
    "\n",
    "all_max = 1.5\n",
    "all_min = -1.5\n",
    "\n",
    "A_inverse = inv(A)\n",
    "\n",
    "fig, axs = plt.subplots(1, 5, figsize = (12, 3))\n",
    "\n",
    "plt.sca(axs[0])\n",
    "ax = sns.heatmap(A, cmap = 'RdBu_r', vmax = all_max, vmin = all_min,\n",
    "                 cbar_kws ={\"orientation\": \"horizontal\"},\n",
    "                 yticklabels = np.arange(1, n+1), xticklabels = np.arange(1, n+1),\n",
    "                 annot = True, fmt =\" .2f\")\n",
    "ax.set_aspect(\"equal\")\n",
    "plt.title('$A$')\n",
    "plt.yticks(rotation = 0)\n",
    "\n",
    "plt.sca(axs[1])\n",
    "plt.title('$@$')\n",
    "plt.yticks(rotation = 0)\n",
    "plt.axis('off')\n",
    "\n",
    "plt.sca(axs[2])\n",
    "ax = sns.heatmap(A_inverse, cmap = 'RdBu_r', vmax = all_max, vmin = all_min,\n",
    "                 cbar_kws ={\"orientation\": \"horizontal\"},\n",
    "                 yticklabels = np.arange(1, n+1), xticklabels = np.arange(1, n+1),\n",
    "                 annot = True, fmt =\" .2f\")\n",
    "ax.set_aspect(\"equal\")\n",
    "plt.title('$A^{-1}$')\n",
    "plt.yticks(rotation = 0)\n",
    "\n",
    "plt.sca(axs[3])\n",
    "plt.title('$=$')\n",
    "plt.axis('off')\n",
    "\n",
    "plt.sca(axs[4])\n",
    "ax = sns.heatmap(A@A_inverse, cmap = 'RdBu_r', vmax = all_max, vmin = all_min,\n",
    "                 cbar_kws ={\"orientation\": \"horizontal\"},\n",
    "                 yticklabels = np.arange(1, n+1), xticklabels = np.arange(1, n+1),\n",
    "                 annot = True, fmt =\" .2f\")\n",
    "ax.set_aspect(\"equal\")\n",
    "plt.title('$I$')\n",
    "plt.yticks(rotation = 0)"
   ]
  },
  {
   "cell_type": "code",
   "execution_count": null,
   "id": "f84eab69-4cc2-4e09-a838-6ded6ec80def",
   "metadata": {},
   "outputs": [],
   "source": []
  }
 ],
 "metadata": {
  "kernelspec": {
   "display_name": "Python 3 (ipykernel)",
   "language": "python",
   "name": "python3"
  },
  "language_info": {
   "codemirror_mode": {
    "name": "ipython",
    "version": 3
   },
   "file_extension": ".py",
   "mimetype": "text/x-python",
   "name": "python",
   "nbconvert_exporter": "python",
   "pygments_lexer": "ipython3",
   "version": "3.11.3"
  }
 },
 "nbformat": 4,
 "nbformat_minor": 5
}
